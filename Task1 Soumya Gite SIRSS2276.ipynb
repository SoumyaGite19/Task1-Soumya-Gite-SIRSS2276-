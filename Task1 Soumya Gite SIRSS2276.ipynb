{
 "cells": [
  {
   "cell_type": "markdown",
   "id": "02924a15",
   "metadata": {},
   "source": [
    "# TASK 1\n",
    "\n",
    "# SIRSS2276\n",
    "\n",
    "# Soumya Gite"
   ]
  },
  {
   "cell_type": "markdown",
   "id": "a011f566",
   "metadata": {},
   "source": [
    "Q1.\n",
    "    55555\n",
    "    5555\n",
    "    555\n",
    "    55\n",
    "    5"
   ]
  },
  {
   "cell_type": "code",
   "execution_count": 3,
   "id": "788d7e5c",
   "metadata": {},
   "outputs": [
    {
     "name": "stdout",
     "output_type": "stream",
     "text": [
      "5 5 5 5 5 \n",
      "5 5 5 5 \n",
      "5 5 5 \n",
      "5 5 \n",
      "5 \n"
     ]
    }
   ],
   "source": [
    "for i in range(5, 0, -1):\n",
    "    for j in range(0,i):\n",
    "        print(\"5\", end =' ')\n",
    "    print()"
   ]
  },
  {
   "cell_type": "code",
   "execution_count": null,
   "id": "19276dc2",
   "metadata": {},
   "outputs": [],
   "source": [
    "Q2.\n",
    "    0 1 2 3 4 5\n",
    "    0 1 2 3 4\n",
    "    0 1 2 3\n",
    "    0 1 2\n",
    "    0 1"
   ]
  },
  {
   "cell_type": "code",
   "execution_count": 5,
   "id": "cdc01d79",
   "metadata": {},
   "outputs": [
    {
     "name": "stdout",
     "output_type": "stream",
     "text": [
      "1 2 3 4 5 \n",
      "1 2 3 4 \n",
      "1 2 3 \n",
      "1 2 \n",
      "1 \n"
     ]
    }
   ],
   "source": [
    "for x in range(6,1,-1):\n",
    "    for y in range(1,x):\n",
    "        print(y, end=' ')\n",
    "    print()"
   ]
  },
  {
   "cell_type": "code",
   "execution_count": null,
   "id": "b1cf830c",
   "metadata": {},
   "outputs": [],
   "source": [
    "Q3.\n",
    "    1\n",
    "    3 3\n",
    "    5 5 5\n",
    "    7 7 7 7\n",
    "    9 9 9 9 9"
   ]
  },
  {
   "cell_type": "code",
   "execution_count": 6,
   "id": "60902278",
   "metadata": {},
   "outputs": [
    {
     "name": "stdout",
     "output_type": "stream",
     "text": [
      "1 \n",
      "3 3 \n",
      "5 5 5 \n",
      "7 7 7 7 \n",
      "9 9 9 9 9 \n"
     ]
    }
   ],
   "source": [
    "for i in range (1,6,1):\n",
    "  for j in range (0,i,1):\n",
    "    print(2*i-1, end =\" \")\n",
    "  print()"
   ]
  },
  {
   "cell_type": "code",
   "execution_count": null,
   "id": "0d06dde3",
   "metadata": {},
   "outputs": [],
   "source": [
    "Q4.\n",
    "    1\n",
    "    2 1\n",
    "    3 2 1\n",
    "    4 3 2 1\n",
    "    5 4 3 2 1"
   ]
  },
  {
   "cell_type": "code",
   "execution_count": 7,
   "id": "a5b3d97a",
   "metadata": {},
   "outputs": [
    {
     "name": "stdout",
     "output_type": "stream",
     "text": [
      "1 \n",
      "2 1 \n",
      "3 2 1 \n",
      "4 3 2 1 \n",
      "5 4 3 2 1 \n"
     ]
    }
   ],
   "source": [
    "for i in range (1,6,1):\n",
    "  for j in range (0,i,1):\n",
    "    print(i-j, end =\" \")\n",
    "  print()"
   ]
  },
  {
   "cell_type": "code",
   "execution_count": null,
   "id": "b85a19d1",
   "metadata": {},
   "outputs": [],
   "source": [
    "Q5.\n",
    "    1\n",
    "    3 2\n",
    "    6 5 4\n",
    "    10 9 8 7"
   ]
  },
  {
   "cell_type": "code",
   "execution_count": 8,
   "id": "8054dddd",
   "metadata": {},
   "outputs": [
    {
     "name": "stdout",
     "output_type": "stream",
     "text": [
      "1 \n",
      "3 2 \n",
      "6 5 4 \n",
      "10 9 8 7 \n"
     ]
    }
   ],
   "source": [
    "k=1\n",
    "for i in range (1,5,1):\n",
    "  for j in range (0,i,1):\n",
    "    print(k-j, end =\" \")\n",
    "  k=k+i+1\n",
    "  print()"
   ]
  },
  {
   "cell_type": "code",
   "execution_count": null,
   "id": "e61f4849",
   "metadata": {},
   "outputs": [],
   "source": [
    "Q6.\n",
    "    1\n",
    "    1 1\n",
    "    1 2 1\n",
    "    1 3 3 1\n",
    "    1 4 6 4 1\n",
    "    1 5 10 10 5 1\n",
    "    1 6 15 20 15 6 1"
   ]
  },
  {
   "cell_type": "code",
   "execution_count": 9,
   "id": "0f0f24a1",
   "metadata": {},
   "outputs": [
    {
     "name": "stdout",
     "output_type": "stream",
     "text": [
      "Enter the row number7\n",
      "1 \n",
      "1 1 \n",
      "1 2 1 \n",
      "1 3 3 1 \n",
      "1 4 6 4 1 \n",
      "1 5 10 10 5 1 \n",
      "1 6 15 20 15 6 1 \n"
     ]
    }
   ],
   "source": [
    "n=int(input(\"Enter the row number\"))\n",
    "list1 = []\n",
    "for i in range(n):\n",
    "    temp_list=[]\n",
    "    for j in range(i+1):\n",
    "        if j==0 or j==i:\n",
    "            temp_list.append(1)\n",
    "        else:\n",
    "            temp_list.append(list1[i-1][j-1] + list1[i-1][j])\n",
    "    list1.append(temp_list)\n",
    "    \n",
    "for i in range(n):\n",
    "    for j in range(i+1):\n",
    "        print(list1[i][j], end=\" \")\n",
    "    print()"
   ]
  },
  {
   "cell_type": "code",
   "execution_count": null,
   "id": "f1c5de4c",
   "metadata": {},
   "outputs": [],
   "source": [
    "Q7.\n",
    "    1 2 3 4 5\n",
    "    2 2 3 4 5\n",
    "    3 3 3 4 5\n",
    "    4 4 4 4 5\n",
    "    5 5 5 5 5"
   ]
  },
  {
   "cell_type": "code",
   "execution_count": 11,
   "id": "763ef588",
   "metadata": {},
   "outputs": [
    {
     "name": "stdout",
     "output_type": "stream",
     "text": [
      "1 2 3 4 5 \n",
      "2 2 3 4 5 \n",
      "3 3 3 4 5 \n",
      "4 4 4 4 5 \n",
      "5 5 5 5 5 \n"
     ]
    }
   ],
   "source": [
    "for i in range(1,6):\n",
    "  for j in range (1,6):\n",
    "    if i>j:\n",
    "      print(i,end=\" \")\n",
    "    else:\n",
    "      print(j,end=\" \")\n",
    "  print()"
   ]
  },
  {
   "cell_type": "code",
   "execution_count": null,
   "id": "a49400a5",
   "metadata": {},
   "outputs": [],
   "source": [
    "Q8.\n",
    "    1 \n",
    "    2 4\n",
    "    3 6 9\n",
    "    4 8 12 16\n",
    "    5 10 15 20 25\n",
    "    6 12 18 24 30 36\n",
    "    7 14 21 28 35 42 49\n",
    "    8 16 24 32 40 48 56 64"
   ]
  },
  {
   "cell_type": "code",
   "execution_count": 12,
   "id": "f64850ec",
   "metadata": {},
   "outputs": [
    {
     "name": "stdout",
     "output_type": "stream",
     "text": [
      "1 \n",
      "2 4 \n",
      "3 6 9 \n",
      "4 8 12 16 \n",
      "5 10 15 20 25 \n",
      "6 12 18 24 30 36 \n",
      "7 14 21 28 35 42 49 \n",
      "8 16 24 32 40 48 56 64 \n"
     ]
    }
   ],
   "source": [
    "for i in range(1,9):\n",
    "    x=1\n",
    "    for j in range(1,i+1):\n",
    "        n=i*x\n",
    "        print(n, end=\" \")\n",
    "        x+=1\n",
    "    print()"
   ]
  },
  {
   "cell_type": "code",
   "execution_count": null,
   "id": "dc7e5819",
   "metadata": {},
   "outputs": [],
   "source": [
    "Q9.\n",
    "    * * * * * * \n",
    "     * * * * * \n",
    "      * * * *\n",
    "       * * *\n",
    "        * *\n",
    "         *"
   ]
  },
  {
   "cell_type": "code",
   "execution_count": 13,
   "id": "db294391",
   "metadata": {},
   "outputs": [
    {
     "name": "stdout",
     "output_type": "stream",
     "text": [
      "Enter a number6\n",
      "* * * * * * \n",
      " * * * * * \n",
      "  * * * * \n",
      "   * * * \n",
      "    * * \n",
      "     * \n"
     ]
    }
   ],
   "source": [
    "n=int(input(\"Enter a number\"))\n",
    "for i in range(n,0,-1):\n",
    "    print(\" \"*(n-i)+\"* \"*i)"
   ]
  },
  {
   "cell_type": "code",
   "execution_count": null,
   "id": "6260af77",
   "metadata": {},
   "outputs": [],
   "source": [
    "Q10.     * \n",
    "        * * \n",
    "       * * * \n",
    "      * * * * \n",
    "     * * * * * \n",
    "    * * * * * * "
   ]
  },
  {
   "cell_type": "code",
   "execution_count": 14,
   "id": "325d6251",
   "metadata": {},
   "outputs": [
    {
     "name": "stdout",
     "output_type": "stream",
     "text": [
      "Enter a number6\n",
      "     * \n",
      "    * * \n",
      "   * * * \n",
      "  * * * * \n",
      " * * * * * \n",
      "* * * * * * \n"
     ]
    }
   ],
   "source": [
    "n=int(input(\"Enter a number\"))\n",
    "for i in range(1,n+1):\n",
    "    print(\" \"*(n-i)+\"* \"*i)"
   ]
  },
  {
   "cell_type": "code",
   "execution_count": null,
   "id": "7e7b6eae",
   "metadata": {},
   "outputs": [],
   "source": [
    "Q11.\n",
    "\n",
    "* \n",
    "* * \n",
    "* * * \n",
    "* * * * \n",
    "* * * * * \n",
    "* * * * * * \n",
    "\n",
    "* * * * * * \n",
    "* * * * * \n",
    "* * * * \n",
    "* * * \n",
    "* * \n",
    "* "
   ]
  },
  {
   "cell_type": "code",
   "execution_count": 15,
   "id": "f78b13e8",
   "metadata": {},
   "outputs": [
    {
     "name": "stdout",
     "output_type": "stream",
     "text": [
      "* \n",
      "* * \n",
      "* * * \n",
      "* * * * \n",
      "* * * * * \n",
      "* * * * * * \n",
      "\n",
      "* * * * * * \n",
      "* * * * * \n",
      "* * * * \n",
      "* * * \n",
      "* * \n",
      "* \n"
     ]
    }
   ],
   "source": [
    "for i in range(1,7):\n",
    "    print(\"* \"*i)\n",
    "    \n",
    "    \n",
    "print()\n",
    "for i in range(6,0,-1):\n",
    "    print(\"* \"*i)"
   ]
  },
  {
   "cell_type": "code",
   "execution_count": null,
   "id": "9b3c4e97",
   "metadata": {},
   "outputs": [],
   "source": [
    "Q12.\n",
    "\n",
    "* \n",
    "* * \n",
    "* * * \n",
    "* * * * \n",
    "* * * * * \n",
    "* * * * \n",
    "* * * \n",
    "* * \n",
    "* "
   ]
  },
  {
   "cell_type": "code",
   "execution_count": 16,
   "id": "64ed45fe",
   "metadata": {},
   "outputs": [
    {
     "name": "stdout",
     "output_type": "stream",
     "text": [
      "* \n",
      "* * \n",
      "* * * \n",
      "* * * * \n",
      "* * * * * \n",
      "* * * * \n",
      "* * * \n",
      "* * \n",
      "* \n"
     ]
    }
   ],
   "source": [
    "for i in range(1,6):\n",
    "    print(\"* \"*i)\n",
    "for i in range(4,0,-1):\n",
    "    print(\"* \"*i)"
   ]
  },
  {
   "cell_type": "code",
   "execution_count": null,
   "id": "c7d11b3d",
   "metadata": {},
   "outputs": [],
   "source": [
    "Q13.       \n",
    "        *  \n",
    "      * *  \n",
    "    * * * \n",
    "  * * * * \n",
    "* * * * * \n",
    "  * * * * \n",
    "    * * * \n",
    "      * * \n",
    "        *  "
   ]
  },
  {
   "cell_type": "code",
   "execution_count": 17,
   "id": "82d705ac",
   "metadata": {},
   "outputs": [
    {
     "name": "stdout",
     "output_type": "stream",
     "text": [
      "Enter a number5\n",
      "        * \n",
      "      * * \n",
      "    * * * \n",
      "  * * * * \n",
      "* * * * * \n",
      "  * * * * \n",
      "    * * * \n",
      "      * * \n",
      "        * \n"
     ]
    }
   ],
   "source": [
    "n=int(input(\"Enter a number\"))\n",
    "for i in range(1,n+1):\n",
    "    print(\"  \"*(n-i)+\"* \"*i)\n",
    "for i in range(n-1,0,-1):\n",
    "    print(\"  \"*(n-i)+\"* \"*i)"
   ]
  },
  {
   "cell_type": "code",
   "execution_count": null,
   "id": "610ec5c1",
   "metadata": {},
   "outputs": [],
   "source": [
    "Q14.\n",
    "\n",
    "* * * * * * \n",
    " * * * * * \n",
    "  * * * * \n",
    "   * * * \n",
    "    * * \n",
    "     * \n",
    "     * \n",
    "    * * \n",
    "   * * * \n",
    "  * * * * \n",
    " * * * * * \n",
    "* * * * * * "
   ]
  },
  {
   "cell_type": "code",
   "execution_count": 18,
   "id": "270d9ce2",
   "metadata": {},
   "outputs": [
    {
     "name": "stdout",
     "output_type": "stream",
     "text": [
      "Enter a number6\n",
      "* * * * * * \n",
      " * * * * * \n",
      "  * * * * \n",
      "   * * * \n",
      "    * * \n",
      "     * \n",
      "     * \n",
      "    * * \n",
      "   * * * \n",
      "  * * * * \n",
      " * * * * * \n",
      "* * * * * * \n"
     ]
    }
   ],
   "source": [
    "n=int(input(\"Enter a number\"))\n",
    "for i in range(n,0,-1):\n",
    "    print(\" \"*(n-i)+\"* \"*i)\n",
    "for i in range(1,n+1):\n",
    "    print(\" \"*(n-i)+\"* \"*i)"
   ]
  },
  {
   "cell_type": "code",
   "execution_count": null,
   "id": "e71bdb03",
   "metadata": {},
   "outputs": [],
   "source": [
    "Q15.\n",
    "\n",
    "***************\n",
    "*******__*******\n",
    "******____******\n",
    "*****______*****\n",
    "****________****\n",
    "***__________***\n",
    "**____________**\n",
    "*______________*"
   ]
  },
  {
   "cell_type": "code",
   "execution_count": 19,
   "id": "58f10aef",
   "metadata": {},
   "outputs": [
    {
     "name": "stdout",
     "output_type": "stream",
     "text": [
      "****************\n",
      "*******__*******\n",
      "******____******\n",
      "*****______*****\n",
      "****________****\n",
      "***__________***\n",
      "**____________**\n",
      "*______________*\n"
     ]
    }
   ],
   "source": [
    "for i in range(1,9):\n",
    "    for j in range(1,17):\n",
    "        if(j<=9-i or j>=8+i):\n",
    "            print(\"*\", end=\"\")\n",
    "        else:\n",
    "            print(\"_\",end=\"\")\n",
    "    print()"
   ]
  }
 ],
 "metadata": {
  "kernelspec": {
   "display_name": "Python 3",
   "language": "python",
   "name": "python3"
  },
  "language_info": {
   "codemirror_mode": {
    "name": "ipython",
    "version": 3
   },
   "file_extension": ".py",
   "mimetype": "text/x-python",
   "name": "python",
   "nbconvert_exporter": "python",
   "pygments_lexer": "ipython3",
   "version": "3.8.8"
  }
 },
 "nbformat": 4,
 "nbformat_minor": 5
}
